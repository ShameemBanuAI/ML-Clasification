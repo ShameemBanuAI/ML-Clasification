{
 "cells": [
  {
   "cell_type": "code",
   "execution_count": 1,
   "id": "aabddf59",
   "metadata": {},
   "outputs": [],
   "source": [
    "import pickle"
   ]
  },
  {
   "cell_type": "code",
   "execution_count": 3,
   "id": "30b943d7",
   "metadata": {},
   "outputs": [
    {
     "name": "stdout",
     "output_type": "stream",
     "text": [
      "Enter Age : 25\n",
      "Salary : 20000\n",
      "Gender 0 or 1 : 1\n",
      "Purchase Prediction [0] \n"
     ]
    },
    {
     "name": "stderr",
     "output_type": "stream",
     "text": [
      "C:\\Users\\ELCOT\\.eclipse\\anaconda\\lib\\site-packages\\sklearn\\base.py:465: UserWarning: X does not have valid feature names, but RandomForestClassifier was fitted with feature names\n",
      "  warnings.warn(\n"
     ]
    }
   ],
   "source": [
    "loaded_model=pickle.load(open(\"finalModel_RforestClassification.sav\",'rb'))\n",
    "age=int(input(\"Enter Age : \"))\n",
    "sal=int(input(\"Salary : \"))\n",
    "gen=int(input(\"Gender 0 or 1 : \"))\n",
    "result=loaded_model.predict([[age,sal,gen]])\n",
    "print(\"Purchase Prediction {} \".format(result))"
   ]
  },
  {
   "cell_type": "code",
   "execution_count": null,
   "id": "d4aebd04",
   "metadata": {},
   "outputs": [],
   "source": []
  }
 ],
 "metadata": {
  "kernelspec": {
   "display_name": "Python 3 (ipykernel)",
   "language": "python",
   "name": "python3"
  },
  "language_info": {
   "codemirror_mode": {
    "name": "ipython",
    "version": 3
   },
   "file_extension": ".py",
   "mimetype": "text/x-python",
   "name": "python",
   "nbconvert_exporter": "python",
   "pygments_lexer": "ipython3",
   "version": "3.10.9"
  }
 },
 "nbformat": 4,
 "nbformat_minor": 5
}
